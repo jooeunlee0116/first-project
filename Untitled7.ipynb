{
  "cells": [
    {
      "cell_type": "markdown",
      "metadata": {
        "id": "view-in-github",
        "colab_type": "text"
      },
      "source": [
        "<a href=\"https://colab.research.google.com/github/jooeunlee0116/first-project/blob/main/Untitled7.ipynb\" target=\"_parent\"><img src=\"https://colab.research.google.com/assets/colab-badge.svg\" alt=\"Open In Colab\"/></a>"
      ]
    },
    {
      "cell_type": "code",
      "execution_count": null,
      "metadata": {
        "colab": {
          "background_save": true
        },
        "id": "QJaSVfzmjh2G"
      },
      "outputs": [],
      "source": [
        "import pandas as pd\n",
        "import json"
      ]
    },
    {
      "cell_type": "code",
      "execution_count": null,
      "metadata": {
        "colab": {
          "base_uri": "https://localhost:8080/"
        },
        "id": "ilZaQBcUmmUT",
        "outputId": "7ebbac92-f05b-4f91-ddc5-b39e0d1625ab"
      },
      "outputs": [
        {
          "name": "stdout",
          "output_type": "stream",
          "text": [
            "Drive already mounted at /content/drive; to attempt to forcibly remount, call drive.mount(\"/content/drive\", force_remount=True).\n"
          ]
        }
      ],
      "source": [
        "from google.colab import drive\n",
        "drive.mount('/content/drive')"
      ]
    },
    {
      "cell_type": "code",
      "execution_count": null,
      "metadata": {
        "id": "eCLYEll4k7_N"
      },
      "outputs": [],
      "source": [
        "df = json.load(open('/content/drive/MyDrive/TL_text_entailment.json', encoding='utf-8'))"
      ]
    },
    {
      "cell_type": "code",
      "execution_count": null,
      "metadata": {
        "colab": {
          "base_uri": "https://localhost:8080/"
        },
        "id": "yHSeHLWmnTN9",
        "outputId": "39e60fea-44da-4581-ef55-97196d5da128"
      },
      "outputs": [
        {
          "name": "stdout",
          "output_type": "stream",
          "text": [
            "정치\n",
            "2022년 대통령 선거를 진두지휘할 여당의 신임 당대표에 5선 송영길 의원이 당선됐다. 함께 치러진 최고위원 선거에서는 김용민 강병원 백혜련 김영배 전혜숙 의원이 당원들의 선택을 받았다. 더불어민주당 당원들은 당대표 선거에서는 ‘쇄신’을 강조한 송 의원에게, 최고위원 선거에서는 문재인정부의 성공적인 마무리를 위한 ‘친문(친문재인) 지도부’ 구성에 힘을 실어준 것으로 평가된다. \n",
            " \n",
            "2일 서울 여의도 당사에서 열린 민주당 임시 전국대의원회의에서 송 신임 대표는 총득표율 35.60%로 홍영표 의원을 불과 0.59%포인트 차로 누르고 당권을 손에 쥐었다. 2위 홍 의원은 권리당원 투표에서 송 의원을 앞섰지만, 반영율이 더 큰 대의원 투표에서 밀렸다. \n",
            " \n",
            "송 신임 대표는 전당대회 직후 수락연설에서 “유능한 개혁, 언행일치의 민주당을 만들어 국민의 삶을 지켜내고, 국민의 마음을 얻겠다”며 “자랑스런 대선 주자들과 소통하면서 대선 경선을 공정하게 관리하겠다”고 강조했다. \n",
            " \n",
            " \n",
            "최고위원 선거에서는 민주당 초선모임 ‘처럼회’ 멤버로 중대범죄수사청 설치 등을 주장해 온 강성 친문 김용민 의원이 가장 많은 표를 얻었다. 역시 친문 진영으로 분류되는 강병원(재선) 김영배(초선) 전혜숙(3선) 의원이 지도부에 입성했다. 비주류 진영은 ‘조국 사태’ 등에 대해 쓴소리를 했던 재선의 백혜련 의원이 유일하다. \n",
            " \n",
            "송 신임 대표가 ‘범친문’으로 분류되긴 하지만 이번 전대기간 당의 전면적 쇄신을 요구해왔고, 친문 강성 지지층에 대한 쓴소리도 아끼지 않았다는 점에서 당내 긴장 상황이 조성될 수 있다는 우려가 일각에서 나온다. 특히 친문 핵심인 윤호중 원내대표는 물론 선출직 최고위원 5명 중 4명이 친문 진영인 상황에서 이들과 얼마나 호흡을 맞출 수 있느냐도 정치권의 관심사다. \n",
            " \n",
            "1963년 전남 고흥에서 태어난 송 신임 대표는 인천 계양을에서 16대, 17대, 18대, 20대, 21대 국회의원을 지냈다. 2010년부터 4년간 인천시장을 역임했다. \n",
            " \n",
            "dict_keys(['Dataset', 'data'])\n"
          ]
        }
      ],
      "source": [
        "print(df['data'][0]['doc_class']['code'])       #0번째 code확인\n",
        "print(df['data'][0]['paragraphs'][0]['context'])  #0번째 context확인\n",
        "print(df.keys())\n"
      ]
    },
    {
      "cell_type": "code",
      "execution_count": null,
      "metadata": {
        "id": "XF0GG8Rhna-r"
      },
      "outputs": [],
      "source": [
        "\n",
        "code_list = [i['doc_class']['code'] for i in df['data']]   #리스트\n",
        "context_list = [i['paragraphs'][0]['context'] for i in df['data']]\n"
      ]
    },
    {
      "cell_type": "code",
      "execution_count": null,
      "metadata": {
        "colab": {
          "base_uri": "https://localhost:8080/"
        },
        "id": "O7OPNvdEngDM",
        "outputId": "d93afdd1-90af-4924-d196-543ecd2ebfa9"
      },
      "outputs": [
        {
          "name": "stdout",
          "output_type": "stream",
          "text": [
            "       code                                            context\n",
            "0        정치  2022년 대통령 선거를 진두지휘할 여당의 신임 당대표에 5선 송영길 의원이 당선됐...\n",
            "1        정치  북한이 2일 대남·대미 담화 3건을 동시다발적으로 발표하면서 남측과 미국을 맹비난했...\n",
            "2        정치  서울시는 코로나19 완치자의 빠른 일상 회복을 돕기 위해 4주간 건강관리서비스를 지...\n",
            "3        사회  전남도소방본부가 전국 최초로 사회적·경제적 취약계층으로 찾아가는 ‘119생활안전전담...\n",
            "4        문화  여성가족부가 지난달 27일 ‘제4차 건강가정기본계획(2021~2025)’을 통해 난...\n",
            "...     ...                                                ...\n",
            "24004    사회  연세대학교 신촌캠퍼스에 위치한 연세우유 서울사무소에서 14일 코로나19 확진자가 나...\n",
            "24005    사회  아베 신조 일본 총리가 최근 현지에서 논란을 빚은 '검찰청법 개정안' 관련 재차 \"...\n",
            "24006  IT과학  서울사이버대학교는 K-MOOC 플랫폼을 통해 5개 과정 강좌를 무료로 제공한다고 1...\n",
            "24007    사회  SK에너지가 모빌리티 고객을 대상으로 한 차량관리 통합 서비스 개발에 본격 착수했다...\n",
            "24008    사회  서울 용산 철도정비창 부지 인근 지역이 오늘(14일) 토지거래허가구역으로 지정된다....\n",
            "\n",
            "[24009 rows x 2 columns]\n"
          ]
        }
      ],
      "source": [
        "df1 = pd.DataFrame({'code' : code_list, 'context' : context_list})   #데이터프레임\n",
        "print(df1)\n"
      ]
    },
    {
      "cell_type": "code",
      "execution_count": null,
      "metadata": {
        "id": "dFhbRIKMnjqQ"
      },
      "outputs": [],
      "source": [
        "df2 = df1[(df1['code'] != '기타') & (df1['code'] != '지역')]"
      ]
    },
    {
      "cell_type": "code",
      "execution_count": null,
      "metadata": {
        "colab": {
          "base_uri": "https://localhost:8080/"
        },
        "id": "bInD5ESennoE",
        "outputId": "7256cbec-5d1a-4d30-c76a-6c83d766f35f"
      },
      "outputs": [
        {
          "name": "stdout",
          "output_type": "stream",
          "text": [
            "       code                                            context\n",
            "0        정치  2022년 대통령 선거를 진두지휘할 여당의 신임 당대표에 5선 송영길 의원이 당선됐...\n",
            "1        정치  북한이 2일 대남·대미 담화 3건을 동시다발적으로 발표하면서 남측과 미국을 맹비난했...\n",
            "2        정치  서울시는 코로나19 완치자의 빠른 일상 회복을 돕기 위해 4주간 건강관리서비스를 지...\n",
            "3        사회  전남도소방본부가 전국 최초로 사회적·경제적 취약계층으로 찾아가는 ‘119생활안전전담...\n",
            "4        문화  여성가족부가 지난달 27일 ‘제4차 건강가정기본계획(2021~2025)’을 통해 난...\n",
            "...     ...                                                ...\n",
            "24004    사회  연세대학교 신촌캠퍼스에 위치한 연세우유 서울사무소에서 14일 코로나19 확진자가 나...\n",
            "24005    사회  아베 신조 일본 총리가 최근 현지에서 논란을 빚은 '검찰청법 개정안' 관련 재차 \"...\n",
            "24006  IT과학  서울사이버대학교는 K-MOOC 플랫폼을 통해 5개 과정 강좌를 무료로 제공한다고 1...\n",
            "24007    사회  SK에너지가 모빌리티 고객을 대상으로 한 차량관리 통합 서비스 개발에 본격 착수했다...\n",
            "24008    사회  서울 용산 철도정비창 부지 인근 지역이 오늘(14일) 토지거래허가구역으로 지정된다....\n",
            "\n",
            "[22930 rows x 2 columns]\n",
            "['정치' '사회' '문화' '경제' '국제' '스포츠' 'IT과학']\n"
          ]
        }
      ],
      "source": [
        "print(df2)\n",
        "print(df2['code'].unique())\n"
      ]
    },
    {
      "cell_type": "code",
      "execution_count": null,
      "metadata": {
        "id": "ehSagTfjntXj"
      },
      "outputs": [],
      "source": [
        "import re\n",
        "\n",
        "def context_clean(df2):\n",
        "  context_clean = []\n",
        "  for _, row in df2.iterrows():\n",
        "    text = row['context']\n",
        "    text = re.sub('[a-zA-Z]', '', text)\n",
        "    text = re.sub('[^\\w\\s]', '', text)\n",
        "    text = re.sub('\\n', '', text)\n",
        "    text = re.sub('\\t', '', text)\n",
        "    text = re.sub('\\d', '', text)\n",
        "    text = re.sub('[\\u4E00-\\u9FFF]', '', text)\n",
        "    text = re.sub(r'\\s+', ' ', text)\n",
        "    context_clean.append(text)\n",
        "  return context_clean"
      ]
    },
    {
      "cell_type": "code",
      "execution_count": null,
      "metadata": {
        "colab": {
          "base_uri": "https://localhost:8080/"
        },
        "id": "2VMwAsIqn0zU",
        "outputId": "d6c4d387-dd09-45a2-bd65-98d970201da5"
      },
      "outputs": [
        {
          "name": "stdout",
          "output_type": "stream",
          "text": [
            "년 대통령 선거를 진두지휘할 여당의 신임 당대표에 선 송영길 의원이 당선됐다 함께 치러진 최고위원 선거에서는 김용민 강병원 백혜련 김영배 전혜숙 의원이 당원들의 선택을 받았다 더불어민주당 당원들은 당대표 선거에서는 쇄신을 강조한 송 의원에게 최고위원 선거에서는 문재인정부의 성공적인 마무리를 위한 친문친문재인 지도부 구성에 힘을 실어준 것으로 평가된다 일 서울 여의도 당사에서 열린 민주당 임시 전국대의원회의에서 송 신임 대표는 총득표율 로 홍영표 의원을 불과 포인트 차로 누르고 당권을 손에 쥐었다 위 홍 의원은 권리당원 투표에서 송 의원을 앞섰지만 반영율이 더 큰 대의원 투표에서 밀렸다 송 신임 대표는 전당대회 직후 수락연설에서 유능한 개혁 언행일치의 민주당을 만들어 국민의 삶을 지켜내고 국민의 마음을 얻겠다며 자랑스런 대선 주자들과 소통하면서 대선 경선을 공정하게 관리하겠다고 강조했다 최고위원 선거에서는 민주당 초선모임 처럼회 멤버로 중대범죄수사청 설치 등을 주장해 온 강성 친문 김용민 의원이 가장 많은 표를 얻었다 역시 친문 진영으로 분류되는 강병원재선 김영배초선 전혜숙선 의원이 지도부에 입성했다 비주류 진영은 조국 사태 등에 대해 쓴소리를 했던 재선의 백혜련 의원이 유일하다 송 신임 대표가 범친문으로 분류되긴 하지만 이번 전대기간 당의 전면적 쇄신을 요구해왔고 친문 강성 지지층에 대한 쓴소리도 아끼지 않았다는 점에서 당내 긴장 상황이 조성될 수 있다는 우려가 일각에서 나온다 특히 친문 핵심인 윤호중 원내대표는 물론 선출직 최고위원 명 중 명이 친문 진영인 상황에서 이들과 얼마나 호흡을 맞출 수 있느냐도 정치권의 관심사다 년 전남 고흥에서 태어난 송 신임 대표는 인천 계양을에서 대 대 대 대 대 국회의원을 지냈다 년부터 년간 인천시장을 역임했다 \n"
          ]
        }
      ],
      "source": [
        "context_clean = context_clean(df2)\n",
        "print(context_clean[0])"
      ]
    },
    {
      "cell_type": "code",
      "execution_count": null,
      "metadata": {
        "colab": {
          "base_uri": "https://localhost:8080/"
        },
        "id": "e7XbGbTjuL9-",
        "outputId": "bf42e498-2d1a-4736-9e41-187f94b4d9c1"
      },
      "outputs": [
        {
          "name": "stdout",
          "output_type": "stream",
          "text": [
            "       code                                            context  code  \\\n",
            "0        정치  2022년 대통령 선거를 진두지휘할 여당의 신임 당대표에 5선 송영길 의원이 당선됐...    정치   \n",
            "1        정치  북한이 2일 대남·대미 담화 3건을 동시다발적으로 발표하면서 남측과 미국을 맹비난했...    정치   \n",
            "2        정치  서울시는 코로나19 완치자의 빠른 일상 회복을 돕기 위해 4주간 건강관리서비스를 지...    정치   \n",
            "3        사회  전남도소방본부가 전국 최초로 사회적·경제적 취약계층으로 찾아가는 ‘119생활안전전담...    사회   \n",
            "4        문화  여성가족부가 지난달 27일 ‘제4차 건강가정기본계획(2021~2025)’을 통해 난...    문화   \n",
            "...     ...                                                ...   ...   \n",
            "24004    사회  연세대학교 신촌캠퍼스에 위치한 연세우유 서울사무소에서 14일 코로나19 확진자가 나...    사회   \n",
            "24005    사회  아베 신조 일본 총리가 최근 현지에서 논란을 빚은 '검찰청법 개정안' 관련 재차 \"...    사회   \n",
            "24006  IT과학  서울사이버대학교는 K-MOOC 플랫폼을 통해 5개 과정 강좌를 무료로 제공한다고 1...  IT과학   \n",
            "24007    사회  SK에너지가 모빌리티 고객을 대상으로 한 차량관리 통합 서비스 개발에 본격 착수했다...    사회   \n",
            "24008    사회  서울 용산 철도정비창 부지 인근 지역이 오늘(14일) 토지거래허가구역으로 지정된다....    사회   \n",
            "\n",
            "                                                 context  \n",
            "0      2022년 대통령 선거를 진두지휘할 여당의 신임 당대표에 5선 송영길 의원이 당선됐...  \n",
            "1      북한이 2일 대남·대미 담화 3건을 동시다발적으로 발표하면서 남측과 미국을 맹비난했...  \n",
            "2      서울시는 코로나19 완치자의 빠른 일상 회복을 돕기 위해 4주간 건강관리서비스를 지...  \n",
            "3      전남도소방본부가 전국 최초로 사회적·경제적 취약계층으로 찾아가는 ‘119생활안전전담...  \n",
            "4      여성가족부가 지난달 27일 ‘제4차 건강가정기본계획(2021~2025)’을 통해 난...  \n",
            "...                                                  ...  \n",
            "24004  연세대학교 신촌캠퍼스에 위치한 연세우유 서울사무소에서 14일 코로나19 확진자가 나...  \n",
            "24005  아베 신조 일본 총리가 최근 현지에서 논란을 빚은 '검찰청법 개정안' 관련 재차 \"...  \n",
            "24006  서울사이버대학교는 K-MOOC 플랫폼을 통해 5개 과정 강좌를 무료로 제공한다고 1...  \n",
            "24007  SK에너지가 모빌리티 고객을 대상으로 한 차량관리 통합 서비스 개발에 본격 착수했다...  \n",
            "24008  서울 용산 철도정비창 부지 인근 지역이 오늘(14일) 토지거래허가구역으로 지정된다....  \n",
            "\n",
            "[24009 rows x 4 columns]\n"
          ]
        }
      ],
      "source": [
        "result = pd.concat([df1, df2], axis = 1,join='inner')\n",
        "print(result)\n"
      ]
    },
    {
      "cell_type": "code",
      "execution_count": null,
      "metadata": {
        "id": "o5v40urpAxj8"
      },
      "outputs": [],
      "source": [
        "from sklearn.preprocessing import LabelEncoder\n",
        "#colums =\n",
        "#encoder = LabelEncoder()\n",
        "#Label = encoder.fit_transform(df2['code'])\n",
        "#print(Label)\n"
      ]
    },
    {
      "cell_type": "code",
      "execution_count": null,
      "metadata": {
        "id": "QTV2y81WA4XY"
      },
      "outputs": [],
      "source": [
        "#len()<=1500"
      ]
    },
    {
      "cell_type": "code",
      "execution_count": null,
      "metadata": {
        "id": "Kor8BfdRA7C7"
      },
      "outputs": [],
      "source": [
        "from sklearn.model_selection import train_test_split\n",
        "input_data = ['context_clean']\n",
        "output_data = ['label']\n"
      ]
    },
    {
      "cell_type": "code",
      "execution_count": null,
      "metadata": {
        "id": "tTJ2PPKSA9ak"
      },
      "outputs": [],
      "source": [
        "#train_input, test_input, train_output, test_output = train_test_split (input_data, output_data, test_size=0.2, shuffle=True, random state=42) #보통 42 사용 #8:2비율"
      ]
    },
    {
      "cell_type": "code",
      "execution_count": null,
      "metadata": {
        "id": "vlp2eKRzBAS3"
      },
      "outputs": [],
      "source": [
        "import pickle\n",
        "\n"
      ]
    },
    {
      "cell_type": "code",
      "execution_count": null,
      "metadata": {
        "id": "Wa61Ut_xBD0G"
      },
      "outputs": [],
      "source": [
        "print(len(train_input))\n",
        "print(len(test_input))\n"
      ]
    },
    {
      "cell_type": "code",
      "execution_count": null,
      "metadata": {
        "id": "3WgXjqDuBF-u"
      },
      "outputs": [],
      "source": [
        "df.to_csv('',index=False)"
      ]
    },
    {
      "cell_type": "markdown",
      "metadata": {
        "id": "vmRtU2W7qWT7"
      },
      "source": []
    }
  ],
  "metadata": {
    "accelerator": "GPU",
    "colab": {
      "gpuType": "T4",
      "toc_visible": true,
      "provenance": [],
      "mount_file_id": "1GY9XcH89gAQU_z8nLCqKEhF1sq1RYDpZ",
      "authorship_tag": "ABX9TyNZWg2ACoH1UjLORas6IHRu",
      "include_colab_link": true
    },
    "kernelspec": {
      "display_name": "Python 3",
      "name": "python3"
    },
    "language_info": {
      "name": "python"
    }
  },
  "nbformat": 4,
  "nbformat_minor": 0
}